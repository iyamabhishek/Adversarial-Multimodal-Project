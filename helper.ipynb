{
 "cells": [
  {
   "cell_type": "code",
   "execution_count": null,
   "metadata": {},
   "outputs": [],
   "source": [
    "import numpy as np\n",
    "\n",
    "from mmsdk import mmdatasdk"
   ]
  },
  {
   "cell_type": "code",
   "execution_count": null,
   "metadata": {},
   "outputs": [],
   "source": [
    "def myavg(intervals,features):\n",
    "    final = np.average(features,axis=0)\n",
    "    if len(final.shape)==2:\n",
    "        final = np.average(final,axis=0)\n",
    "    return final"
   ]
  },
  {
   "cell_type": "markdown",
   "metadata": {},
   "source": [
    "## Combining features"
   ]
  },
  {
   "cell_type": "code",
   "execution_count": null,
   "metadata": {},
   "outputs": [],
   "source": [
    "mydict={'COAVAREP':'cmumosi/cmu_mosi_audio_feature.csd',\n",
    "        'text':'cmumosi/cmu_mosi_text_feature.csd',\n",
    "       'video':'cmumosi/cmu_mosi_video_feature.csd'}\n",
    "\n",
    "mosi_highlevel = mmdatasdk.mmdataset(mydict)"
   ]
  },
  {
   "cell_type": "code",
   "execution_count": null,
   "metadata": {
    "scrolled": true
   },
   "outputs": [],
   "source": [
    "mosi_highlevel.align('text',collapse_functions=[myavg])"
   ]
  },
  {
   "cell_type": "code",
   "execution_count": null,
   "metadata": {},
   "outputs": [],
   "source": [
    "mosi_highlevel.impute('text')"
   ]
  },
  {
   "cell_type": "code",
   "execution_count": null,
   "metadata": {
    "scrolled": true
   },
   "outputs": [],
   "source": [
    "mosi_highlevel.add_computational_sequences({'sentiment':'cmumosi/cmu_mosi_sentiment.csd'}, 'cmumosi/')"
   ]
  },
  {
   "cell_type": "code",
   "execution_count": null,
   "metadata": {},
   "outputs": [],
   "source": [
    "mosi_highlevel.align('sentiment')"
   ]
  },
  {
   "cell_type": "code",
   "execution_count": null,
   "metadata": {
    "scrolled": true
   },
   "outputs": [],
   "source": [
    "deploy_files={x:x for x in mosi_highlevel.computational_sequences.keys()}\n",
    "mosi_highlevel.deploy(\"cmumosi/deployed\",deploy_files)"
   ]
  },
  {
   "cell_type": "markdown",
   "metadata": {},
   "source": [
    "## Checking the deployed files"
   ]
  },
  {
   "cell_type": "code",
   "execution_count": null,
   "metadata": {},
   "outputs": [],
   "source": [
    "aligned_cmumosi_highlevel = mmdatasdk.mmdataset('cmumosi/deployed')"
   ]
  },
  {
   "cell_type": "code",
   "execution_count": null,
   "metadata": {},
   "outputs": [],
   "source": []
  },
  {
   "cell_type": "markdown",
   "metadata": {},
   "source": [
    "## Training, Validation and Test folds"
   ]
  },
  {
   "cell_type": "code",
   "execution_count": null,
   "metadata": {},
   "outputs": [],
   "source": [
    "def get_folds(fold, keys):\n",
    "    folds = []\n",
    "    for item in fold:\n",
    "        folds.extend(element for element in keys if element[:len(item)] == item)\n",
    "    return folds"
   ]
  },
  {
   "cell_type": "code",
   "execution_count": null,
   "metadata": {},
   "outputs": [],
   "source": [
    "cmumosi_paths = dict()\n",
    "cmumosi_paths[\"CMU-MOSI-Audio\"] = \"cmumosi/cmu_mosi_audio_feature.csd\"\n",
    "cmumosi=mmdatasdk.mmdataset(cmumosi_paths)"
   ]
  },
  {
   "cell_type": "code",
   "execution_count": null,
   "metadata": {},
   "outputs": [],
   "source": [
    "all_keys = [item for item in cmumosi.computational_sequences['CMU-MOSI-Audio'].keys()]\n",
    "\n",
    "train_fold = get_folds(mmdatasdk.cmu_mosi.standard_folds.standard_train_fold, all_keys)\n",
    "valid_fold = get_folds(mmdatasdk.cmu_mosi.standard_folds.standard_valid_fold, all_keys)\n",
    "test_fold = get_folds(mmdatasdk.cmu_mosi.standard_folds.standard_test_fold, all_keys)"
   ]
  }
 ],
 "metadata": {
  "kernelspec": {
   "display_name": "Python 3",
   "language": "python",
   "name": "python3"
  },
  "language_info": {
   "codemirror_mode": {
    "name": "ipython",
    "version": 3
   },
   "file_extension": ".py",
   "mimetype": "text/x-python",
   "name": "python",
   "nbconvert_exporter": "python",
   "pygments_lexer": "ipython3",
   "version": "3.7.4"
  }
 },
 "nbformat": 4,
 "nbformat_minor": 2
}
